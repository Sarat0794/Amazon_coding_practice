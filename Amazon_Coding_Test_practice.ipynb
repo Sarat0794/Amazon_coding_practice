{
 "cells": [
  {
   "cell_type": "markdown",
   "metadata": {},
   "source": [
    "1) Given two words, find if second word is the round rotation of first word.\n",
    "For example: abc, cab\n",
    "return 1\n",
    "since cab is round rotation of abc\n",
    "\n",
    "Example2: ab, aa\n",
    "return -1\n",
    "since aa is not round rotation for aa"
   ]
  },
  {
   "cell_type": "code",
   "execution_count": null,
   "metadata": {},
   "outputs": [],
   "source": [
    "def round_rotation(a,b):\n",
    "    if a[-1] == b[0] and a[0:-1]==b[1:]:\n",
    "        return 1\n",
    "    else:\n",
    "        return -1"
   ]
  },
  {
   "cell_type": "code",
   "execution_count": null,
   "metadata": {},
   "outputs": [],
   "source": [
    "round_rotation('abc','cab')"
   ]
  },
  {
   "cell_type": "markdown",
   "metadata": {},
   "source": [
    "2) Given two hexadecimal numbers find if they can be consecutive in gray code\n",
    "For example: 10001000, 10001001\n",
    "return 1\n",
    "since they are successive in gray code\n",
    "\n",
    "\n",
    "\n",
    "Example2: 10001000, 10011001\n",
    "return -1\n",
    "since they are not successive in gray code."
   ]
  },
  {
   "cell_type": "code",
   "execution_count": null,
   "metadata": {},
   "outputs": [],
   "source": [
    "def consecutive_grayCode(a,b):\n",
    "    count = 0\n",
    "    a, b = str(a), str(b)\n",
    "    \n",
    "    for i in range(len(a)):\n",
    "        if a[i]==b[i]:\n",
    "            continue\n",
    "        else:\n",
    "            count+=1\n",
    "    if count == 1:\n",
    "        return 1\n",
    "    else:\n",
    "        return -1\n",
    "        "
   ]
  },
  {
   "cell_type": "code",
   "execution_count": null,
   "metadata": {},
   "outputs": [],
   "source": [
    "consecutive_grayCode( 10001000, 10011001)"
   ]
  },
  {
   "cell_type": "markdown",
   "metadata": {},
   "source": [
    "3) Movies on Flight\n",
    "You are on a flight and wanna watch two movies during this flight.\n",
    "You are given int[] movie_duration which includes all the movie durations.\n",
    "You are also given the duration of the flight which is d in minutes.\n",
    "Now, you need to pick two movies and the total duration of the two movies is less than or equal to (d - 30min).\n",
    "Find the pair of movies with the longest total duration. If multiple found, return the pair with the longest movie.\n",
    "\n",
    "e.g.\n",
    "Input\n",
    "movie_duration: [90, 85, 75, 60, 120, 150, 125]\n",
    "d: 250\n",
    "\n",
    "Output from aonecode.com\n",
    "[90, 125]\n",
    "90min + 125min = 215 is the maximum number within 220 (250min - 30min)"
   ]
  },
  {
   "cell_type": "code",
   "execution_count": null,
   "metadata": {},
   "outputs": [],
   "source": [
    "def movie_selection(md,d):\n",
    "    l=[]\n",
    "    m1=[]\n",
    "    m2=[]\n",
    "    for i in range(len(md)):\n",
    "        for j in range(i+1,len(md)):\n",
    "            if md[i]+md[j] <= d-30:\n",
    "                l.append(md[i]+md[j])\n",
    "                m1.append(md[i])\n",
    "                m2.append(md[j])\n",
    "            else:\n",
    "                continue\n",
    "    for m in range(len(m1)):\n",
    "        for n in range(len(m2)):\n",
    "            if m1[m]+m2[n]==max(l):\n",
    "                final_1 = m1[m]\n",
    "                final_2 = m2[n]\n",
    "                \n",
    "    return max(l), [final_1,final_2]"
   ]
  },
  {
   "cell_type": "code",
   "execution_count": null,
   "metadata": {},
   "outputs": [],
   "source": [
    "movie_selection( [90, 85, 75, 60, 120, 150, 125],250)"
   ]
  },
  {
   "cell_type": "code",
   "execution_count": null,
   "metadata": {},
   "outputs": [],
   "source": []
  },
  {
   "cell_type": "code",
   "execution_count": null,
   "metadata": {},
   "outputs": [],
   "source": [
    "x= [[0,10,1,1],[3,4,5,6],[6,5,3,3],[2,4,8,32]]"
   ]
  },
  {
   "cell_type": "code",
   "execution_count": null,
   "metadata": {},
   "outputs": [],
   "source": [
    "len(x[0])"
   ]
  },
  {
   "cell_type": "code",
   "execution_count": null,
   "metadata": {},
   "outputs": [],
   "source": [
    "x[0][len(x)-3]"
   ]
  },
  {
   "cell_type": "code",
   "execution_count": null,
   "metadata": {},
   "outputs": [],
   "source": [
    "def island(matrix):\n",
    "    count = []\n",
    "    steps = 0\n",
    "    min_steps = []\n",
    "    for i in range(len(matrix)):\n",
    "        for j in range(len(matrix[0])):\n",
    "            if matrix[i][j] == 'D' and matrix[i][j+1] == 'O':\n",
    "                \n",
    "                \n",
    "                i=i\n",
    "                j=j-1\n",
    "                continue\n",
    "            elif matrix[i][j] == 'O':\n",
    "                steps +=1\n",
    "                continue\n",
    "            elif matrix[i][j] == 'X':\n",
    "                steps = steps\n",
    "                break\n",
    "            else:\n",
    "                print('invalid island')\n",
    "        count.append(steps)\n",
    "    min_steps.append(max(count))\n",
    "    \n",
    "    return min_steps, count"
   ]
  },
  {
   "cell_type": "code",
   "execution_count": null,
   "metadata": {},
   "outputs": [],
   "source": [
    "island([\n",
    "['O', 'O', 'O', 'O'],\n",
    "['D', 'O', 'D', 'O'],\n",
    "['O', 'O', 'O', 'O'],\n",
    "['X', 'D', 'D', 'O'],\n",
    "])"
   ]
  },
  {
   "cell_type": "code",
   "execution_count": null,
   "metadata": {},
   "outputs": [],
   "source": [
    "matrix = [['O', 'O', 'O', 'O'],\n",
    "['D', 'O', 'D', 'O'],\n",
    "['O', 'O', 'O', 'O'],\n",
    "['X', 'D', 'D', 'O'],]"
   ]
  },
  {
   "cell_type": "code",
   "execution_count": null,
   "metadata": {},
   "outputs": [],
   "source": [
    "for i in matrix:\n",
    "    print('r=',i)\n"
   ]
  },
  {
   "cell_type": "code",
   "execution_count": null,
   "metadata": {},
   "outputs": [],
   "source": [
    "cols = len(matrix)"
   ]
  },
  {
   "cell_type": "code",
   "execution_count": null,
   "metadata": {},
   "outputs": [],
   "source": [
    "cols"
   ]
  },
  {
   "cell_type": "code",
   "execution_count": null,
   "metadata": {},
   "outputs": [],
   "source": []
  },
  {
   "cell_type": "code",
   "execution_count": null,
   "metadata": {},
   "outputs": [],
   "source": []
  },
  {
   "cell_type": "code",
   "execution_count": null,
   "metadata": {},
   "outputs": [],
   "source": [
    "# Global Variables:\n",
    "n = # of nodes in the graph\n",
    "g = adjacency list representing unweighted graph\n",
    "# s = start node\n",
    "# e = end node\n",
    "function bfs(s,e):\n",
    "    prev = solve(s)\n",
    "    return reconstructPath(s,e,prev)"
   ]
  },
  {
   "cell_type": "code",
   "execution_count": null,
   "metadata": {},
   "outputs": [],
   "source": [
    "#Solve method:\n",
    "def solve(s):\n",
    "    q  = [] #adds starting node to this\n",
    "    visited = [false, false, ....] # size n. This array tracks whether the valie i has been visited or not\n",
    "    visited[s] = true \n",
    "    prev = [null, null, ....] # Size n. Helps to reconstruvct the shortest path\n",
    "    #This array tracks the parent node.\n",
    "\n",
    "    while q is not empty:\n",
    "        pull out the top node from the queue.\n",
    "        then reach inside the adjacency list and get all the neighbours of this node \n",
    "        then loop over each unvisited node.\n",
    "        once we reach an unvisited node, add it to the queue, mark it as visited\n",
    "        and keep track of the parent node of the next node in the prev array.\n",
    "\n",
    "        when the queue is empty then BFS is completed\n",
    "\n",
    "        now return the \"prev\" array\n",
    "    "
   ]
  },
  {
   "cell_type": "code",
   "execution_count": null,
   "metadata": {},
   "outputs": [],
   "source": [
    "def reconstructPath(s,e,\"prev\"):\n",
    "    loop backward from the end node to start node\n",
    "    path = []\n",
    "    while path!=null:\n",
    "        for i in range(e):\n",
    "            a=prev[i]\n",
    "            path.add(a)\n",
    "    path.reverse()\n",
    "    if path[0] == s:\n",
    "        return path\n",
    "    return []"
   ]
  },
  {
   "cell_type": "code",
   "execution_count": null,
   "metadata": {},
   "outputs": [],
   "source": []
  },
  {
   "cell_type": "code",
   "execution_count": null,
   "metadata": {},
   "outputs": [],
   "source": []
  },
  {
   "cell_type": "code",
   "execution_count": null,
   "metadata": {},
   "outputs": [],
   "source": [
    "import numpy as np\n",
    "class IT:     \n",
    "    def __init__(self,m):\n",
    "        # Global variables\n",
    "        self.R = len(m)\n",
    "        self.C = len(m[0])\n",
    "        self.sr, self.sc = m[0], m[0][0] # row column position of starting node.\n",
    "        self.rq = [] # empty Row queue and column queue\n",
    "        self.cq = []\n",
    "        # Variable used to track the number of steps taken to reach the destination\n",
    "        self.move_count = 0 # counts the number of steps taken\n",
    "        self.nodes_left_in_layer = 1 # says how many layers we need to dequeue befire taking a step.\n",
    "        self.nodes_in_next_layer = 0 # number of nodes we added in the BFS expansion so that \n",
    "        # we can update nodes_left_in_layer accordingly in the next iteration. \n",
    "        self.reached_end = False # tracks if we reached the destination.\n",
    "\n",
    "        self.visited = list(np.zeros((len(m),len(m[0])))) #  matrix of size same as input. To track if the cell is visited.\n",
    "        # Here filling the visited matrix with zeros instead of 'False'\n",
    "\n",
    "\n",
    "        # North, south, east and west direction vectors.\n",
    "        self.dr = [-1,+1,0,0]\n",
    "        self.dc = [0,0,+1,-1]\n",
    "\n",
    "        self.solve(self.sr,self.sc)\n",
    "    def solve(self,sr,sc):\n",
    "        self.rq.append(sr)\n",
    "        self.cq.append(sc)\n",
    "        self.visited[sr][sc] = 1\n",
    "        # now run BFS algorithm till our row queue or column becomes empty.\n",
    "        while len(self.rq)>0: \n",
    "            # r and c are current position\n",
    "            r = self.rq.pop[0] # dequeuing the current position i.e the last elememt in the queue\n",
    "\n",
    "            c = self.cq.pop[0] # dequeuing the current position i.e the last elememt in the queue\n",
    "            # Now we check the current position if we receached the destination.\n",
    "            if self.m[r][c] == 'X':\n",
    "                self.reached_end = True\n",
    "                break\n",
    "            # if the current position is not the destination, we explore the other neighbors. \n",
    "\n",
    "            self.explore_neighbors(r,c)\n",
    "            # The following code tracks the number of steps to reach the destination. \n",
    "            # Every time we finish a layer of nodes, we increment the number of steps taken\n",
    "            # we know how many nodes are in each layer because we kept track of the in explore_neighbors method.\n",
    "\n",
    "            self.nodes_left_in_layer -=1\n",
    "            if self.nodes_left_in_layer == 0:\n",
    "                self.nodes_left_in_layer == self.nodes_in_next_layer\n",
    "                self.nodes_in_next_layer = 0\n",
    "                self.move_count +=1\n",
    "        if self.reached_end == True:\n",
    "            return self.move_count\n",
    "        else:\n",
    "            return -1\n",
    "    def explore_neighbors(self,r,c):\n",
    "        for i in range(4):\n",
    "            rr = r + self.dr[i] # current position of r\n",
    "            cc = c + self.dc[i] # current position of c \n",
    "\n",
    "            # Skiping the out of bound cells \n",
    "            if rr < 0 or cc < 0: continue\n",
    "            if rr >= R or cc >= C: continue\n",
    "\n",
    "            # skip visited locations and blocked cells\n",
    "            if self.visited[rr][cc] == 1: continue\n",
    "            if self.m[rr][cc] == 'D': continue\n",
    "\n",
    "            self.rq.append(rr)\n",
    "            self.cq.append(cc)\n",
    "            self.visited[rr][cc]=1 # Marking that this cell has been visited \n",
    "\n",
    "            self.nodes_in_next_layer +=1\n",
    "        return self.rq, self.cq, self.nodes_in_next_layer\n",
    "\n",
    "\n",
    "\n"
   ]
  },
  {
   "cell_type": "code",
   "execution_count": null,
   "metadata": {},
   "outputs": [],
   "source": [
    "\n",
    "            \n",
    "        \n",
    "        "
   ]
  },
  {
   "cell_type": "code",
   "execution_count": null,
   "metadata": {},
   "outputs": [],
   "source": [
    "\n",
    "        \n",
    "        "
   ]
  },
  {
   "cell_type": "code",
   "execution_count": null,
   "metadata": {},
   "outputs": [],
   "source": [
    "IT([\n",
    "['O', 'O', 'O', 'O'],\n",
    "['D', 'O', 'D', 'O'],\n",
    "['O', 'O', 'O', 'O'],\n",
    "['X', 'D', 'D', 'O'],\n",
    "])"
   ]
  },
  {
   "cell_type": "code",
   "execution_count": null,
   "metadata": {},
   "outputs": [],
   "source": [
    "a= np.zeros((2,2))"
   ]
  },
  {
   "cell_type": "code",
   "execution_count": null,
   "metadata": {},
   "outputs": [],
   "source": [
    "a.shape"
   ]
  },
  {
   "cell_type": "code",
   "execution_count": null,
   "metadata": {},
   "outputs": [],
   "source": [
    "list(a)"
   ]
  },
  {
   "cell_type": "code",
   "execution_count": null,
   "metadata": {},
   "outputs": [],
   "source": [
    "def solve(sr,sc):\n",
    "    rq.append(sr)\n",
    "    cq.append(sc)\n",
    "    visited[sr][sc] = 1\n",
    "    # now run BFS algorithm till our row queue or column becomes empty.\n",
    "    while len(rq)>0: \n",
    "        # r and c are current position\n",
    "        r = rq.pop[-1] # dequeuing the current position i.e the last elememt in the queue\n",
    "        \n",
    "        c = cq.pop[-1] # dequeuing the current position i.e the last elememt in the queue\n",
    "        # Now we check the current position if we receached the destination.\n",
    "        if m[r][c] == 'X':\n",
    "            reached_end = True\n",
    "            break\n",
    "        # if the current position is not the destination, we explore the other neighbors. \n",
    "        \n",
    "        explore_neighbors(r,c)\n",
    "        # The following code tracks the number of steps to reach the destination. \n",
    "        # Every time we finish a layer of nodes, we increment the number of steps taken\n",
    "        # we know how many nodes are in each layer because we kept track of the in explore_neighbors method.\n",
    "        \n",
    "        nodes_left_in_layer -=1\n",
    "        if nodes_left_in_layer == 0:\n",
    "            nodes_left_in_layer == nodes_in_next_layer\n",
    "            nodes_in_next_layer = 0\n",
    "            move_count +=1\n",
    "    if reached_end == True:\n",
    "        return move_count\n",
    "    else:\n",
    "        return -1"
   ]
  },
  {
   "cell_type": "code",
   "execution_count": null,
   "metadata": {},
   "outputs": [],
   "source": [
    "def explore_neighbors(r,c):\n",
    "    for i in range(4):\n",
    "        rr = r + dr[i] # current position of r\n",
    "        cc = c + dc[i] # current position of c \n",
    "        \n",
    "        # Skiping the out of bound cells \n",
    "        if rr < 0 or cc < 0: continue\n",
    "        if rr >= R or cc >= C: continue\n",
    "        \n",
    "        # skip visited locations and blocked cells\n",
    "        if visited[rr][cc] == 1: continue\n",
    "        if m[rr][cc] == 'D': continue\n",
    "        \n",
    "        rq.append(rr)\n",
    "        cq.append(cc)\n",
    "        visited[rr][cc]=1 # Marking that this cell has been visited \n",
    "        \n",
    "        nodes_in_next_layer +=1"
   ]
  },
  {
   "cell_type": "code",
   "execution_count": null,
   "metadata": {},
   "outputs": [],
   "source": [
    "10"
   ]
  },
  {
   "cell_type": "code",
   "execution_count": null,
   "metadata": {},
   "outputs": [],
   "source": [
    "x=[2,3,4,2,31,3]"
   ]
  },
  {
   "cell_type": "code",
   "execution_count": null,
   "metadata": {},
   "outputs": [],
   "source": [
    "x.get()"
   ]
  },
  {
   "cell_type": "code",
   "execution_count": null,
   "metadata": {},
   "outputs": [],
   "source": [
    "a=([\n",
    "['O', 'O', 'O', 'O'],\n",
    "['D', 'O', 'D', 'O'],\n",
    "['O', 'O', 'O', 'O'],\n",
    "['X', 'D', 'D', 'O'],\n",
    "])"
   ]
  },
  {
   "cell_type": "code",
   "execution_count": null,
   "metadata": {},
   "outputs": [],
   "source": [
    "a=np.array(a)"
   ]
  },
  {
   "cell_type": "code",
   "execution_count": null,
   "metadata": {},
   "outputs": [],
   "source": [
    "b= np.zeros((a.shape))"
   ]
  },
  {
   "cell_type": "code",
   "execution_count": null,
   "metadata": {},
   "outputs": [],
   "source": [
    "def solve(sr,sc):\n",
    "    rq.append(sr)\n",
    "    cq.append(sc)\n",
    "    visited[sr][sc] = 1\n",
    "    # now run BFS algorithm till our row queue or column becomes empty.\n",
    "    while len(rq)>0: \n",
    "        # r and c are current position\n",
    "        r = rq.pop[-1] # dequeuing the current position i.e the last elememt in the queue\n",
    "        \n",
    "        c = cq.pop[-1] # dequeuing the current position i.e the last elememt in the queue\n",
    "        # Now we check the current position if we receached the destination.\n",
    "        if m[r][c] == 'X':\n",
    "            reached_end = True\n",
    "            break\n",
    "        # if the current position is not the destination, we explore the other neighbors. \n",
    "        \n",
    "        explore_neighbors(r,c)\n",
    "        # The following code tracks the number of steps to reach the destination. \n",
    "        # Every time we finish a layer of nodes, we increment the number of steps taken\n",
    "        # we know how many nodes are in each layer because we kept track of the in explore_neighbors method.\n",
    "        \n",
    "        nodes_left_in_layer -=1\n",
    "        if nodes_left_in_layer == 0:\n",
    "            nodes_left_in_layer == nodes_in_next_layer\n",
    "            nodes_in_next_layer = 0\n",
    "            move_count +=1\n",
    "    if reached_end == True:\n",
    "        return move_count\n",
    "    else:\n",
    "        return -1"
   ]
  },
  {
   "cell_type": "code",
   "execution_count": null,
   "metadata": {},
   "outputs": [],
   "source": [
    "def explore_neighbors(r,c):\n",
    "    for i in range(4):\n",
    "        rr = r + dr[i] # current position of r\n",
    "        cc = c + dc[i] # current position of c \n",
    "        \n",
    "        # Skiping the out of bound cells \n",
    "        if rr < 0 or cc < 0: continue\n",
    "        if rr >= R or cc >= C: continue\n",
    "        \n",
    "        # skip visited locations and blocked cells\n",
    "        if visited[rr][cc] == 1: continue\n",
    "        if m[rr][cc] == 'D': continue\n",
    "        \n",
    "        rq.append(rr)\n",
    "        cq.append(cc)\n",
    "        visited[rr][cc]=1 # Marking that this cell has been visited \n",
    "        \n",
    "        nodes_in_next_layer +=1"
   ]
  },
  {
   "cell_type": "code",
   "execution_count": null,
   "metadata": {},
   "outputs": [],
   "source": [
    "import numpy as np\n",
    "def BFS(m):\n",
    "    m = np.array(m)\n",
    "    rq = [0]\n",
    "    cq = [0]\n",
    "    visited = np.zeros((m.shape))\n",
    "    visited[0][0] = 1\n",
    "    steps = 0\n",
    "    \n",
    "    # directions\n",
    "    dr = [-1, +1, 0, 0]\n",
    "    dc = [0, 0, -1, +1]\n",
    "    \n",
    "    \n",
    "    nodes_left_in_layer = 1 # How many nodes we need to dequeue before taking a step\n",
    "    nodes_in_next_layer = 0 # tracks how many nodes we added in the BFS expansion\n",
    "    \n",
    "    while len(rq)>0:\n",
    "        r = rq.pop(0)\n",
    "        c = cq.pop(0)\n",
    "        \n",
    "        if m[r][c] == 'X':\n",
    "            # steps += 1\n",
    "            break\n",
    "        else:\n",
    "            for i in range(4): # Since there are 4 directions (up down left right)\n",
    "                rr = r + dr[i] # new directions\n",
    "                cc = c + dc[i]\n",
    "                if rr < 0 or cc < 0:\n",
    "                    continue\n",
    "                elif rr >= len(m) or cc >= len(m[0]):\n",
    "                    continue\n",
    "                elif m[rr][cc] == 'D':\n",
    "                    continue\n",
    "                \n",
    "               \n",
    "                elif visited[rr][cc] == 1:\n",
    "                    continue\n",
    "                else:\n",
    "                    rq.append(rr)\n",
    "                    cq.append(cc)\n",
    "                    visited[rr][cc] = 1\n",
    "                    nodes_in_next_layer +=1\n",
    "                    \n",
    "        \n",
    "        # when the nodes_left_in_layer reaches 0, we increment the step.\n",
    "        nodes_left_in_layer -=1\n",
    "        if nodes_left_in_layer == 0:\n",
    "            nodes_left_in_layer = nodes_in_next_layer\n",
    "            steps += 1\n",
    "    return steps, list(zip(rq, cq))\n",
    "    "
   ]
  },
  {
   "cell_type": "code",
   "execution_count": null,
   "metadata": {},
   "outputs": [],
   "source": [
    "BFS(([\n",
    "['O', 'O', 'O', 'O'],\n",
    "['D', 'O', 'D', 'O'],\n",
    "['O', 'O', 'O', 'O'],\n",
    "['X', 'D', 'D', 'O'],\n",
    "]))"
   ]
  },
  {
   "cell_type": "code",
   "execution_count": null,
   "metadata": {},
   "outputs": [],
   "source": [
    "x = ['a','b','c']\n",
    "y = [1,2,3]"
   ]
  },
  {
   "cell_type": "code",
   "execution_count": null,
   "metadata": {},
   "outputs": [],
   "source": [
    "list(zip(x,y))"
   ]
  },
  {
   "cell_type": "code",
   "execution_count": null,
   "metadata": {},
   "outputs": [],
   "source": [
    "x[0]=567"
   ]
  },
  {
   "cell_type": "code",
   "execution_count": null,
   "metadata": {},
   "outputs": [],
   "source": [
    "x"
   ]
  },
  {
   "cell_type": "code",
   "execution_count": null,
   "metadata": {},
   "outputs": [],
   "source": [
    "for i in range(4):\n",
    "    print(i)"
   ]
  },
  {
   "cell_type": "code",
   "execution_count": null,
   "metadata": {},
   "outputs": [],
   "source": []
  },
  {
   "cell_type": "code",
   "execution_count": null,
   "metadata": {},
   "outputs": [],
   "source": []
  },
  {
   "cell_type": "markdown",
   "metadata": {},
   "source": [
    "5) K Nearest Post Offices\n",
    "Find the k post offices located closest to you, given your location and a list of locations of all post offices available.\n",
    "Locations are given in 2D coordinates in [X, Y], where X and Y are integers.\n",
    "Euclidean distance is applied to find the distance between you and a post office.\n",
    "Assume your location is [m, n] and the location of a post office is [p, q], the Euclidean distance between the office and you is SquareRoot((m - p) * (m - p) + (n - q) * (n - q)).\n",
    "K is a positive integer much smaller than the given number of post offices. from aonecode.com\n",
    "\n",
    "e.g.\n",
    "Input\n",
    "you: [0, 0]\n",
    "post_offices: [[-16, 5], [-1, 2], [4, 3], [10, -2], [0, 3], [-5, -9]]\n",
    "k = 3\n",
    "\n",
    "Output from aonecode.com\n",
    "[[-1, 2], [0, 3], [4, 3]]"
   ]
  },
  {
   "cell_type": "code",
   "execution_count": null,
   "metadata": {},
   "outputs": [],
   "source": [
    "import math\n",
    "def kNP(loc, pf, k):\n",
    "    idx = []\n",
    "    d = []\n",
    "    knn = []\n",
    "    for p,q in pf:\n",
    "        pd = math.sqrt((loc[0]-p)*(loc[0]-p)+(loc[1]-q)*(loc[1]-q))\n",
    "        d.append(pd)\n",
    "    d1 = sorted(d)\n",
    "    d2 = d1[:k]\n",
    "    for i in range(len(d)):\n",
    "        for j in range(k):\n",
    "            if d[i] == d2[j]:\n",
    "                idx.append(d.index(d[i]))\n",
    "            else:\n",
    "                continue\n",
    "    for j in idx:\n",
    "        knn.append(pf[j])\n",
    "    return knn"
   ]
  },
  {
   "cell_type": "code",
   "execution_count": null,
   "metadata": {},
   "outputs": [],
   "source": [
    "kNP( [0, 0], [[-16, 5], [-1, 2], [4, 3], [10, -2], [0, 3], [-5, -9]], 3 )"
   ]
  },
  {
   "cell_type": "code",
   "execution_count": null,
   "metadata": {},
   "outputs": [],
   "source": []
  },
  {
   "cell_type": "markdown",
   "metadata": {},
   "source": [
    "6) Amazon’s Sort Center\n",
    "In Amazon’s sort center, a computer system decides what packages are to be loaded on what trucks. All rooms and spaces are abstracted into space units which is represented as an integer. For each type of truck, they have different space units. For each package, they will be occupying different space units. As a software development engineer in sort centers, you will need to write a method:\n",
    "\n",
    "Given truck space units and a list of product space units, find out exactly TWO products that fit into the truck. You will also implement an internal rule that the truck has to reserve exactly 30 space units for safety purposes. Each package is assigned a unique ID, numbered from 0 to N-1.\n",
    "\n",
    "Assumptions:\n",
    "You will pick up exactly 2 packages.\n",
    "You cannot pick up one package twice.\n",
    "If you have multiple pairs, select the pair with the largest package.\n",
    "\n",
    "Input:\n",
    "The input to the function/method consists of two arguments :\n",
    "truckSpace , an integer representing the truck space.\n",
    "packagesSpace , a list of integers representing the space units occupying by packages.\n",
    "\n",
    "Output:\n",
    "Return a list of integers representing the IDs of two packages whose combined space will leave exactly 30 space units on the truck.\n",
    "\n",
    "Example\n",
    "Input :\n",
    "truckSpace = 90\n",
    "packagesSpace = [1, 10, 25, 35, 60]\n",
    "Output :\n",
    "[2, 3]\n",
    "Explanation : Given a truck of 90 space units, a list of packages space units [1, 10, 25, 35, 60], Your method should select the third(ID-2) and fourth(ID-3) package since you have to reserve exactly 30 space units."
   ]
  },
  {
   "cell_type": "code",
   "execution_count": null,
   "metadata": {},
   "outputs": [],
   "source": [
    "def Amazon_Sort_Center(truckSpace, packagesSpace):\n",
    "    ID =[]\n",
    "    ID_pairs = []\n",
    "    for i in range(len(packagesSpace)):\n",
    "        for j in range(len(packagesSpace)):\n",
    "            if packagesSpace[i]==packagesSpace[j]:\n",
    "                continue\n",
    "            elif truckSpace-(packagesSpace[i]+packagesSpace[j]) == 30:\n",
    "                ID.append(packagesSpace.index(packagesSpace[i]))\n",
    "                ID.append(packagesSpace.index(packagesSpace[j]))\n",
    "                ID = list(set(ID)) # set to get unique values else we are getting (1,2,2,1)\n",
    "                #print(ID)\n",
    "                ID_pairs.append(ID)\n",
    "            else:\n",
    "                continue\n",
    "        ID=[] # Clearing the list so that ID_pairs will add new pair. If you dont clear the result will be [1,2,3,4].\n",
    "        # the pairs will not be devided. \n",
    "        #ID_pairs = list(set(ID_pairs))\n",
    "        ID_pairs = sorted(ID_pairs,reverse=True) # arranding  ID paris in deacending order, so that, If you have multiple pairs, \n",
    "        # we can select the pair with the largest package. \n",
    "    return ID_pairs[0] # Used set to return unique values in the list"
   ]
  },
  {
   "cell_type": "code",
   "execution_count": null,
   "metadata": {},
   "outputs": [],
   "source": [
    "Amazon_Sort_Center(90, [1, 10, 25, 35, 60] )"
   ]
  },
  {
   "cell_type": "markdown",
   "metadata": {},
   "source": [
    "7) Most Common Words\n",
    "Amazon is partnering with the linguistics department at a local university to analyze important works of English literature and identify patterns in word usage across different eras. To ensure a cleaner output. the linguistics department has provided a list of commonly used words (e.g., “an”, “the”. etc.) to exclude from the analysis. In the context of this search, a word is an alphabetic sequence of characters having no whitespace or punctuation.\n",
    "\n",
    "Write an algorithm to find the most frequently used word in the text excluding the commonly used words.\n",
    "\n",
    "Input:\n",
    "The input to the function/method consists of two arguments:\n",
    "literatureText: a string representing the block of text,\n",
    "wordsToExclude: a list of strings representing the commonly used words to be excluded while analyzing the word frequency.\n",
    "\n",
    "Output:\n",
    "Return a list of strings representing the most frequently used word in the text or in case of a tie, all of the most frequently used words in the text..\n",
    "\n",
    "Note:\n",
    "Words that have a different case are counted as the same word. The order of words does not matter in the output list. All words in the ‘wordsToExclude’ list are unique. Punctuation should be treated as white space.\n",
    "\n",
    "Example\n",
    "Input :\n",
    "literature Text = “Jack and Jill went to the market to buy bread and cheese. Cheese is Jack’s and Jill’s favorite food.”\n",
    "wordsToExclude = [“and”, “he”, “the”, “to”, “is”. “Jack”, “Jill”]\n",
    "Output :\n",
    "[“cheese”, “s”]\n",
    "\n",
    "Explanation : The word `and\" has a maximum of three frequency but this word should be excluded while analyzing the word frequency. The words “Jack’. 'Jill”, “s”, “to” and “cheese” have the next maximum frequency(two) in the given text but the words “Jack”, “to” and \"Jill’ should be excluded as these are commonly used words which you are not interested to include.\n"
   ]
  },
  {
   "cell_type": "code",
   "execution_count": 11,
   "metadata": {},
   "outputs": [],
   "source": [
    "import string\n",
    "def Most_Common_Words(Text, wordsToExclude):\n",
    "    \n",
    "    # Replacing all punctuations with white space.\n",
    "    pun = string.punctuation\n",
    "    for p in pun:\n",
    "        Text = Text.replace(p, ' ')\n",
    "    \n",
    "    # Splitting the text into words.\n",
    "    Text = Text.split()\n",
    "    \n",
    "    # Converting to lower case  in Text\n",
    "    lowerText = []\n",
    "    for l in Text:\n",
    "        lowerText.append(l.lower())\n",
    "        \n",
    "    # Converting to lower case  in wordsToExclude\n",
    "    wordEx = []\n",
    "    for i in wordsToExclude:\n",
    "        wordEx.append(i.lower())\n",
    "        \n",
    "    for i in range(len(lowerText)): # If you dont use this loop, it will only remove 1st word and leaves the rest of the repetitions.\n",
    "        for ex in wordEx:\n",
    "            if ex in lowerText:\n",
    "                lowerText.remove(ex)\n",
    "            else:\n",
    "                continue\n",
    "    count = []\n",
    "    co=[]\n",
    "    for c in lowerText:\n",
    "        wc = lowerText.count(c)\n",
    "        pair = [c,wc]\n",
    "        count.append(pair)\n",
    "        co.append(wc)\n",
    "    mwc=[]\n",
    "    for w,c in count:\n",
    "        if c == max(co):\n",
    "            mwc.append(w)\n",
    "    return list(set(mwc))\n",
    "    "
   ]
  },
  {
   "cell_type": "code",
   "execution_count": 12,
   "metadata": {},
   "outputs": [
    {
     "data": {
      "text/plain": [
       "['cheese', 's']"
      ]
     },
     "execution_count": 12,
     "metadata": {},
     "output_type": "execute_result"
    }
   ],
   "source": [
    "Most_Common_Words(\"Jack and Jill went to the market to buy bread and cheese. Cheese is Jack's and Jill's favorite food.\", ['and', 'he', 'the', 'to', 'is', 'Jack', 'Jill'] )"
   ]
  },
  {
   "cell_type": "markdown",
   "metadata": {},
   "source": [
    "8) Min Cost to Connect All Nodes (Minimum Spanning Tree I)\n",
    "Given an undirected graph with n nodes labeled 1..n. Some of the nodes are already connected. The i-th edge connects nodes edges[i][0] and edges[i][1] together. Your task is to augment this set of edges with additional edges to connect all the nodes. Find the minimum cost to add new edges between the nodes such that all the nodes are accessible from each other.\n",
    "\n",
    "Input:\n",
    "n, an int representing the total number of nodes.\n",
    "edges, a list of integer pair representing the nodes already connected by an edge.\n",
    "newEdges, a list where each element is a triplet representing the pair of nodes between which an edge can be added and the cost of addition, respectively (e.g. [1, 2, 5] means to add an edge between node 1 and 2, the cost would be 5).\n",
    "\n",
    "Example:\n",
    "Input:\n",
    "n = 6, edges = [[1, 4], [4, 5], [2, 3]], newEdges = [[1, 2, 5], [1, 3, 10], [1, 6, 2], [5, 6, 5]]\n",
    "Output: 7\n",
    "Explanation:\n",
    "There are 3 connected components [1, 4, 5], [2, 3] and [6].\n",
    "We can connect these components into a single component by connecting node 1 to node 2 and node 1 to node 6 at a minimum cost of 5 + 2 = 7.\n",
    "\n",
    "hint: what’s the time complexity of your algorithm? Can you make the running time O(E * log(E)) by using Union Find?"
   ]
  },
  {
   "cell_type": "code",
   "execution_count": null,
   "metadata": {},
   "outputs": [],
   "source": [
    "# worked \n",
    "def ed2(n,edges):\n",
    "    # universal set which contains all the vertices\n",
    "    u=[]\n",
    "    for i in range(1,n+1):\n",
    "        u.append(i)\n",
    "        \n",
    "    # converting the edges into sets for union operation\n",
    "    sets = [] # contains edges in the form of sets\n",
    "    final_sets = [] # contains connected edges in set format\n",
    "    for i in range(len(edges)):\n",
    "        sets.append(set(edges[i]))\n",
    "        \n",
    "    for j in range(len(edges)):\n",
    "        for k in range(len(edges)):\n",
    "            if sets[j]==sets[k]:\n",
    "                continue\n",
    "            elif list(sets[j])[0] ==list(sets[k])[0] or list(sets[j])[0] ==list(sets[k])[1]:\n",
    "                sets[j]=sets[j].union(sets[k])\n",
    "                \n",
    "                \n",
    "            elif list(sets[j])[1] ==list(sets[k])[0] or list(sets[j])[1] ==list(sets[k])[1]:\n",
    "                sets[j]=sets[j].union(sets[k])\n",
    "                \n",
    "            else:\n",
    "                continue\n",
    "    for s in sets:\n",
    "        if s in final_sets:\n",
    "            continue\n",
    "        else:\n",
    "            final_sets.append(s)\n",
    "    #Converting the sets in final_sets to lists for operations. \n",
    "    list_sets = []\n",
    "    for l in final_sets:\n",
    "        list_sets.append(list(l))\n",
    "    \n",
    "    # Adding independent nodes to our list_sets\n",
    "    sub_u =[] # contains alll vertices which already have connections. \n",
    "    for i in range(len(list_sets)):\n",
    "        for j in range(len(list_sets[i])):\n",
    "            sub_u.append(list_sets[i][j])\n",
    "    # Appending the independent vertices which have no connections. \n",
    "    for i in u:\n",
    "        if i in sub_u:\n",
    "            continue\n",
    "        else:\n",
    "            list_sets.append([i])\n",
    "    \n",
    "    return list_sets"
   ]
  },
  {
   "cell_type": "code",
   "execution_count": null,
   "metadata": {},
   "outputs": [],
   "source": [
    "ed2(6,[[1, 4], [4, 5], [2, 3]])"
   ]
  },
  {
   "cell_type": "code",
   "execution_count": null,
   "metadata": {},
   "outputs": [],
   "source": [
    "t1= [ ]\n",
    "\n",
    "list_sets=[[1, 4, 5], [2, 3], [6]]\n",
    "newEdges = [[1, 2, 5], [1, 3, 10], [1, 6, 2], [5, 6, 5]]\n",
    "w = []\n",
    "\n",
    "for w1 in range(len(newEdges)):\n",
    "    w.append(newEdges[w1][2])\n",
    "w = sorted(w)    \n",
    "w2 = w\n",
    "\n",
    "for i in range(len(newEdges)):\n",
    "    for j in range(len(list_sets)):\n",
    "        if newEdges[i][0] in list_sets[j] or newEdges[i][1] in list_sets[j]:\n",
    "            continue\n",
    "        else:\n",
    "            if newEdges[i][2]==min(w2):\n",
    "                t1.append(newEdges[i][2])\n",
    "                w2.remove(newEdges[i][2])\n",
    "            else: \n",
    "                continue\n",
    "print(t1)\n",
    "print(num_edges)\n",
    "    "
   ]
  },
  {
   "cell_type": "code",
   "execution_count": 10,
   "metadata": {},
   "outputs": [
    {
     "name": "stdout",
     "output_type": "stream",
     "text": [
      "3\n"
     ]
    },
    {
     "data": {
      "text/plain": [
       "[2, 2]"
      ]
     },
     "execution_count": 10,
     "metadata": {},
     "output_type": "execute_result"
    }
   ],
   "source": [
    "t1= [ ]\n",
    "\n",
    "t=[[1, 4, 5], [2, 3], [6]]\n",
    "num_edges = []\n",
    "for i in t:\n",
    "    num_edges.append(len(i)-1)\n",
    "print(sum(num_edges))\n",
    "\n",
    "ne = [[1, 2, 10], [1, 3, 5], [1, 6, 2], [5, 6, 2]]\n",
    "w = []\n",
    "\n",
    "for w1 in range(len(ne)):\n",
    "    w.append(ne[w1][2])\n",
    "w = sorted(w)    \n",
    "w2 = w\n",
    "tree=[]\n",
    "\n",
    "for i in range(len(ne)):\n",
    "    for j in range(len(t)):\n",
    "        if ne[i][0] in t[j] or ne[i][1] in t[j]:\n",
    "            #w2.remove(ne[i][2])\n",
    "            continue\n",
    "        else:\n",
    "            if ne[i][2]==min(w2) and len(t1)<sum(num_edges)-1:\n",
    "                t1.append(ne[i][2])\n",
    "                w2.remove(ne[i][2])\n",
    "                \n",
    "            else: \n",
    "                continue\n",
    "t1          \n",
    "    "
   ]
  },
  {
   "cell_type": "code",
   "execution_count": null,
   "metadata": {},
   "outputs": [],
   "source": [
    "minSpanningTree_1(6,[[1, 4], [4, 5], [2, 3]], [[1, 2, 5], [1, 3, 10], [1, 6, 2], [5, 6, 5]])"
   ]
  },
  {
   "cell_type": "code",
   "execution_count": null,
   "metadata": {},
   "outputs": [],
   "source": [
    "t=[[1, 4, 5], [2, 3], [6]]\n",
    "ne = [[1, 2, 5], [1, 3, 10], [1, 6, 2], [5, 6, 5]]"
   ]
  },
  {
   "cell_type": "code",
   "execution_count": null,
   "metadata": {},
   "outputs": [],
   "source": [
    "ne[0][0] in t[0]"
   ]
  },
  {
   "cell_type": "code",
   "execution_count": null,
   "metadata": {},
   "outputs": [],
   "source": [
    "1 in t[0]"
   ]
  },
  {
   "cell_type": "code",
   "execution_count": null,
   "metadata": {},
   "outputs": [],
   "source": [
    "def ed2(n,edges, newEdges):\n",
    "    # universal set which contains all the vertices\n",
    "    u=[]\n",
    "    for i in range(1,n+1):\n",
    "        u.append(i)\n",
    "        \n",
    "    # converting the edges into sets for union operation\n",
    "    sets = [] # contains edges in the form of sets\n",
    "    final_sets = [] # contains connected edges in set format\n",
    "    for i in range(len(edges)):\n",
    "        sets.append(set(edges[i]))\n",
    "        \n",
    "    for j in range(len(edges)):\n",
    "        for k in range(len(edges)):\n",
    "            if sets[j]==sets[k]:\n",
    "                continue\n",
    "            elif list(sets[j])[0] ==list(sets[k])[0] or list(sets[j])[0] ==list(sets[k])[1]:\n",
    "                sets[j]=sets[j].union(sets[k])\n",
    "                \n",
    "                \n",
    "            elif list(sets[j])[1] ==list(sets[k])[0] or list(sets[j])[1] ==list(sets[k])[1]:\n",
    "                sets[j]=sets[j].union(sets[k])\n",
    "                \n",
    "            else:\n",
    "                continue\n",
    "    for s in sets:\n",
    "        if s in final_sets:\n",
    "            continue\n",
    "        else:\n",
    "            final_sets.append(s)\n",
    "    #Converting the sets in final_sets to lists for operations. \n",
    "    list_sets = []\n",
    "    for l in final_sets:\n",
    "        list_sets.append(list(l))\n",
    "    \n",
    "    # Adding independent nodes to our list_sets\n",
    "    sub_u =[] # contains alll vertices which already have connections. \n",
    "    for i in range(len(list_sets)):\n",
    "        for j in range(len(list_sets[i])):\n",
    "            sub_u.append(list_sets[i][j])\n",
    "    # Appending the independent vertices which have no connections. \n",
    "    for i in u:\n",
    "        if i in sub_u:\n",
    "            continue\n",
    "        else:\n",
    "            list_sets.append([i])\n",
    "    t1= [ ]\n",
    "\n",
    "    #list_sets=[[1, 4, 5], [2, 3], [6]]\n",
    "    #newEdges = [[1, 2, 5], [1, 3, 10], [1, 6, 2], [5, 6, 5]]\n",
    "    w = []\n",
    "\n",
    "    for w1 in range(len(newEdges)):\n",
    "        w.append(newEdges[w1][2])\n",
    "    w = sorted(w)    \n",
    "    w2 = w\n",
    "\n",
    "    for i in range(len(newEdges)):\n",
    "        for j in range(len(list_sets)):\n",
    "            if newEdges[i][0] in list_sets[j] or newEdges[i][1] in list_sets[j]:\n",
    "                continue\n",
    "            else:\n",
    "                if newEdges[i][2]==min(w2):\n",
    "                    t1.append(newEdges[i][2])\n",
    "                    w2.remove(newEdges[i][2])\n",
    "                else: \n",
    "                    continue\n",
    "    return sum(t1)"
   ]
  },
  {
   "cell_type": "code",
   "execution_count": null,
   "metadata": {},
   "outputs": [],
   "source": [
    "ed2(6,[[1, 4], [4, 5], [2, 3]], [[1, 2, 5], [1, 3, 10], [1, 6, 2], [5, 6, 5]])"
   ]
  },
  {
   "cell_type": "code",
   "execution_count": null,
   "metadata": {},
   "outputs": [],
   "source": [
    " edges_to_add= [ ]\n",
    "\n",
    "    list_sets=[[1, 4, 5], [2, 3], [6]]\n",
    "    \n",
    "    weights = []\n",
    "\n",
    "    for w1 in range(len(ne)):\n",
    "        weights.append(ne[w1][2])\n",
    "    weights = sorted(weights)    \n",
    "    sorted_weights = weights\n",
    "\n",
    "    for i in range(len(newEdges)):\n",
    "        for j in range(len(list_sets)):\n",
    "            if newEdges[i][0] in list_sets[j] or newEdges[i][1] in list_sets[j]:\n",
    "                continue\n",
    "            else:\n",
    "                if newEdges[i][2]==min(w2):\n",
    "                    edges_to_add.append(newEdges[i][2])\n",
    "                    sorted_weights.remove(newEdges[i][2])\n",
    "                else: \n",
    "                    continue\n",
    "    return edges_to_add          "
   ]
  },
  {
   "cell_type": "code",
   "execution_count": null,
   "metadata": {},
   "outputs": [],
   "source": []
  },
  {
   "cell_type": "markdown",
   "metadata": {},
   "source": [
    "Question 9: \n",
    "    \n",
    "You have a list of text reviews. Your company wants to find its top N competitors. \n",
    "Pick most discussed company from the list.\n",
    "and display top N competitors. \n",
    "\n",
    "Input: 5 arguments\n",
    "1) competitors: list of competitor companies. ['Microsoft', 'Amazon', 'Apple', 'Google', 'Uber']\n",
    "2) N : pick top N number of competitors\n",
    "3) reviews: test reviews: [\"Amazon is the best\", \"Microsoft is largest company\", \"Amazon is united ideas of the world\", 'Google designs are the best', 'Uber is the best transport app', \"Uber plans air transport\"]\n",
    "4) NReviews : number of reviews\n",
    "5) nCompetitors: number of competitors. \n",
    "    \n",
    "Output:\n",
    "    if N=2 then [Amazon, Uber]"
   ]
  },
  {
   "cell_type": "code",
   "execution_count": null,
   "metadata": {},
   "outputs": [],
   "source": [
    "def TopN_Competitors(reviews, Competitors, numReviews, numCompetitors, TopNCompetitors ):\n",
    "    rev = [] # contains lists of text seperated into tokens \n",
    "    comp=[] # contains competitors mentioned in the reviews\n",
    "    n=2\n",
    "    for i in range(len(reviews)): \n",
    "        rev.append(reviews[i].split()) # separating the text into tokens\n",
    "    for j in range(len(rev)): # identifying the Competitors in the reviews\n",
    "        for k in range(len(rev[j])):\n",
    "            if rev[j][k] in competitors:\n",
    "                comp.append(rev[j][k])\n",
    "    count = [] # consists of count of each competitor\n",
    "    co = []\n",
    "    for c in comp: \n",
    "        wc = comp.count(c)  \n",
    "        pair = [wc,c] \n",
    "        count.append(pair) # appending count pair list to count\n",
    "        co.append(wc)\n",
    "    count = sorted(count, reverse = True)  #\n",
    "\n",
    "\n",
    "\n",
    "\n",
    "    Output = {} \n",
    "\n",
    "    # Using Iteration \n",
    "    for lis in count: \n",
    "        Output.setdefault(tuple(lis))\n",
    "\n",
    "    Output = list(Output.keys())\n",
    "\n",
    "    fc=[]\n",
    "    for i in range(n):\n",
    "        fc.append(Output[i][1])\n",
    "    \n",
    "    return fc\n"
   ]
  }
 ],
 "metadata": {
  "kernelspec": {
   "display_name": "Python 3",
   "language": "python",
   "name": "python3"
  },
  "language_info": {
   "codemirror_mode": {
    "name": "ipython",
    "version": 3
   },
   "file_extension": ".py",
   "mimetype": "text/x-python",
   "name": "python",
   "nbconvert_exporter": "python",
   "pygments_lexer": "ipython3",
   "version": "3.7.1"
  }
 },
 "nbformat": 4,
 "nbformat_minor": 2
}
